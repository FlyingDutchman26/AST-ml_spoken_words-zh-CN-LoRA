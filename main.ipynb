{
 "cells": [
  {
   "cell_type": "code",
   "execution_count": 1,
   "metadata": {},
   "outputs": [
    {
     "name": "stderr",
     "output_type": "stream",
     "text": [
      "/remote-home/pjli/anaconda3/envs/audio/lib/python3.9/site-packages/tqdm/auto.py:21: TqdmWarning: IProgress not found. Please update jupyter and ipywidgets. See https://ipywidgets.readthedocs.io/en/stable/user_install.html\n",
      "  from .autonotebook import tqdm as notebook_tqdm\n"
     ]
    }
   ],
   "source": [
    "from torch.utils.data import DataLoader\n",
    "from datasets import load_dataset, Audio\n",
    "from transformers import AutoFeatureExtractor, ASTForAudioClassification, AutoModelForAudioClassification\n",
    "from torch.optim import AdamW"
   ]
  },
  {
   "cell_type": "code",
   "execution_count": 2,
   "metadata": {},
   "outputs": [
    {
     "name": "stderr",
     "output_type": "stream",
     "text": [
      "Found cached dataset ml_spoken_words (/remote-home/pjli/.cache/huggingface/datasets/MLCommons___ml_spoken_words/zh-CN_wav-6e7818d76df98faf/1.0.0/321ea853cf0a05abb7a2d7efea900692a3d8622af65a2f3ce98adb7800a5d57b)\n",
      "100%|██████████| 3/3 [00:00<00:00, 516.58it/s]\n"
     ]
    },
    {
     "name": "stdout",
     "output_type": "stream",
     "text": [
      "{'一些': 0, '三十四': 1, '三尖杉': 2, '三峡': 3, '三年': 4, '三维': 5, '上述': 6, '下表': 7, '不丹': 8, '不明': 9, '世代': 10, '世宗': 11, '东京': 12, '东侧': 13, '东南': 14, '东正教': 15, '东部': 16, '严谨': 17, '中举': 18, '为期': 19, '为首': 20, '主任委员': 21, '主体': 22, '主办': 23, '主线': 24, '主题曲': 25, '之中': 26, '乌头属': 27, '乔治亚州': 28, '乘客': 29, '九龙': 30, '争议': 31, '事务所': 32, '二十一': 33, '二氧化碳': 34, '于是': 35, '交会': 36, '交界': 37, '产于': 38, '人类': 39, '人类学': 40, '介面': 41, '任意': 42, '任职': 43, '众多': 44, '优良': 45, '传奇': 46, '传记': 47, '伴随': 48, '例如': 49, '供应': 50, '俄国': 51, '保加利亚': 52, '信用': 53, '俱乐部': 54, '偏好': 55, '停止': 56, '元素': 57, '光滑': 58, '兖州': 59, '入口': 60, '入境': 61, '入球': 62, '全市': 63, '八旗': 64, '公元': 65, '公司': 66, '公学': 67, '公家': 68, '兰德': 69, '关押': 70, '其实': 71, '具有': 72, '内尔': 73, '内战': 74, '内蒙古': 75, '军政': 76, '农业部': 77, '农场': 78, '凯尔': 79, '出使': 80, '出没': 81, '击败': 82, '分别': 83, '分子': 84, '分开': 85, '刑事': 86, '列表': 87, '初中': 88, '删除': 89, '剧场': 90, '副作用': 91, '努力': 92, '北海道': 93, '医师': 94, '十五': 95, '十八年': 96, '十字': 97, '十字花科': 98, '华中': 99, '南投': 100, '占有': 101, '卡利': 102, '卫视': 103, '印刷': 104, '厄尔': 105, '历来': 106, '厕所': 107, '原文': 108, '县政府': 109, '参加': 110, '参政': 111, '反复': 112, '反对派': 113, '反射': 114, '发展': 115, '发源地': 116, '发起': 117, '变更': 118, '可是': 119, '可能': 120, '台北': 121, '司职': 122, '各种': 123, '合作': 124, '吉林省': 125, '同性': 126, '名义': 127, '名叫': 128, '名字': 129, '名胜区': 130, '后端': 131, '后被': 132, '君王': 133, '听到': 134, '周刊': 135, '哥特式': 136, '哲学家': 137, '唱片': 138, '啄木鸟': 139, '商会': 140, '喜爱': 141, '四十': 142, '四十四': 143, '四川': 144, '围棋': 145, '国内外': 146, '国家公园': 147, '国徽': 148, '图书': 149, '圣殿': 150, '地形': 151, '地点': 152, '型号': 153, '型式': 154, '塔克': 155, '塔尔': 156, '增长': 157, '备受': 158, '复出': 159, '大于': 160, '大厦': 161, '大学': 162, '大学部': 163, '大约': 164, '大部份': 165, '大都': 166, '大阪府': 167, '天山': 168, '天文学家': 169, '天生': 170, '天竺': 171, '契约': 172, '奥地利': 173, '奥斯陆': 174, '女生': 175, '如此': 176, '委托': 177, '嫡母': 178, '子为': 179, '字体': 180, '字元': 181, '孙女': 182, '学派': 183, '学院': 184, '安土桃山时代': 185, '安葬': 186, '宗室': 187, '宗旨': 188, '定位': 189, '定期': 190, '实体': 191, '审查': 192, '宣誓': 193, '容器': 194, '对于': 195, '对照': 196, '封面': 197, '射击': 198, '尊重': 199, '尔格': 200, '尺寸': 201, '尼基': 202, '尼泊尔': 203, '山羊': 204, '山西省': 205, '岭南': 206, '州府': 207, '巡洋舰': 208, '巨大': 209, '巴伐利亚州': 210, '巴拿马': 211, '市场': 212, '市郊': 213, '帕克': 214, '年幼': 215, '年级': 216, '并未': 217, '幼儿': 218, '度过': 219, '座落': 220, '开办': 221, '弹劾': 222, '当中': 223, '彝族': 224, '形状': 225, '影响力': 226, '影展': 227, '得主': 228, '总共': 229, '情况': 230, '意味着': 231, '感知': 232, '戈亚斯': 233, '战俘': 234, '承袭': 235, '拉萨': 236, '指令': 237, '排名': 238, '排序': 239, '接着': 240, '推翻': 241, '提供': 242, '搜索': 243, '携带': 244, '摧毁': 245, '撒哈拉': 246, '撤销': 247, '操作': 248, '改名': 249, '放弃': 250, '政府': 251, '救援': 252, '整理': 253, '斑点': 254, '断层': 255, '斯人口': 256, '新西兰': 257, '方式': 258, '方形': 259, '方程': 260, '方面': 261, '日后': 262, '日常': 263, '日常生活': 264, '日本': 265, '日记': 266, '早熟': 267, '时空': 268, '明命': 269, '明星': 270, '星光': 271, '映射': 272, '昭和': 273, '晶体': 274, '有关': 275, '朋友': 276, '朝代': 277, '本质': 278, '机关': 279, '机器人': 280, '村落': 281, '来自': 282, '来说': 283, '果树': 284, '柴胡': 285, '标注': 286, '校友': 287, '根本': 288, '格雷': 289, '桑科': 290, '概率': 291, '模型': 292, '武将': 293, '歧视': 294, '母语': 295, '毒性': 296, '比例': 297, '比尤特': 298, '比特': 299, '气体': 300, '氢化': 301, '氧气': 302, '水果': 303, '江南': 304, '沃伦': 305, '河北省': 306, '沿用': 307, '泛指': 308, '海南省': 309, '海滩': 310, '深海': 311, '清末': 312, '渔业': 313, '湖南省': 314, '演唱': 315, '演艺': 316, '潮州': 317, '火箭': 318, '炮兵': 319, '父母': 320, '版本': 321, '物语': 322, '特急': 323, '状元': 324, '状况': 325, '独自': 326, '玄参科': 327, '率领': 328, '王室': 329, '环状': 330, '现今': 331, '珍珠菜': 332, '理性': 333, '甚至': 334, '用此': 335, '用法': 336, '用途': 337, '由于': 338, '由来': 339, '电子': 340, '留下': 341, '留守': 342, '痛苦': 343, '癌症': 344, '的町名': 345, '监督': 346, '直属': 347, '真空': 348, '眼蝶': 349, '石刻': 350, '示范': 351, '礼部': 352, '神经元': 353, '票房': 354, '科奇斯': 355, '科尔': 356, '科斯塔': 357, '科进士': 358, '程序': 359, '立场': 360, '竞技': 361, '第九': 362, '第二十': 363, '第二十一': 364, '第六十三': 365, '第十九': 366, '第十八': 367, '篮球队': 368, '类似': 369, '粮食': 370, '紫色': 371, '累积': 372, '繁忙': 373, '约克': 374, '纳西': 375, '经济学家': 376, '给定': 377, '维也纳': 378, '缓慢': 379, '编制': 380, '罗伯特': 381, '美术馆': 382, '翅膀': 383, '考入': 384, '耳蕨': 385, '耶路撒冷': 386, '肌肉': 387, '股东': 388, '自治': 389, '航空母舰': 390, '艺术': 391, '花卉': 392, '花园': 393, '莎草科': 394, '莲属': 395, '获得者': 396, '萨摩亚': 397, '蓼科': 398, '藤为': 399, '虎耳草科': 400, '蛋白质': 401, '蛱蝶': 402, '血统': 403, '西伯利亚': 404, '西侧': 405, '西汉': 406, '记忆': 407, '记忆体': 408, '设备': 409, '证书': 410, '评论家': 411, '识别': 412, '该党': 413, '该地': 414, '该省': 415, '读者': 416, '课程': 417, '调查': 418, '谷地': 419, '贞元': 420, '财经': 421, '贷款': 422, '资助': 423, '资料库': 424, '赛季': 425, '起因': 426, '起源': 427, '跑道': 428, '身影': 429, '软体': 430, '辖下': 431, '过渡': 432, '运算': 433, '运行': 434, '运输': 435, '近年来': 436, '进化': 437, '进去': 438, '进攻': 439, '连续剧': 440, '迪安': 441, '选举': 442, '选手': 443, '透过': 444, '途中': 445, '通车': 446, '遗传': 447, '遗留': 448, '遭遇': 449, '避难': 450, '那时': 451, '部位': 452, '部族': 453, '部首': 454, '都市': 455, '酋长': 456, '配合': 457, '配置': 458, '采集': 459, '释放': 460, '重复': 461, '重点': 462, '金山': 463, '金融': 464, '金钟': 465, '针对': 466, '银色': 467, '错过': 468, '锦州市': 469, '镇压': 470, '长沙': 471, '阁楼': 472, '降低': 473, '难道': 474, '集中': 475, '集合': 476, '雷达': 477, '青年队': 478, '非洲': 479, '面临': 480, '页面': 481, '顶端': 482, '领兵': 483, '风貌': 484, '食用': 485, '饰演': 486, '首长': 487, '香槟': 488, '香茶菜属': 489, '马来西亚': 490, '马里': 491, '马里科帕': 492, '鲁国': 493, '鸦片': 494, '鹅观草': 495, '黑森州': 496, '龙胆科': 497}\n",
      "{0: '一些', 1: '三十四', 2: '三尖杉', 3: '三峡', 4: '三年', 5: '三维', 6: '上述', 7: '下表', 8: '不丹', 9: '不明', 10: '世代', 11: '世宗', 12: '东京', 13: '东侧', 14: '东南', 15: '东正教', 16: '东部', 17: '严谨', 18: '中举', 19: '为期', 20: '为首', 21: '主任委员', 22: '主体', 23: '主办', 24: '主线', 25: '主题曲', 26: '之中', 27: '乌头属', 28: '乔治亚州', 29: '乘客', 30: '九龙', 31: '争议', 32: '事务所', 33: '二十一', 34: '二氧化碳', 35: '于是', 36: '交会', 37: '交界', 38: '产于', 39: '人类', 40: '人类学', 41: '介面', 42: '任意', 43: '任职', 44: '众多', 45: '优良', 46: '传奇', 47: '传记', 48: '伴随', 49: '例如', 50: '供应', 51: '俄国', 52: '保加利亚', 53: '信用', 54: '俱乐部', 55: '偏好', 56: '停止', 57: '元素', 58: '光滑', 59: '兖州', 60: '入口', 61: '入境', 62: '入球', 63: '全市', 64: '八旗', 65: '公元', 66: '公司', 67: '公学', 68: '公家', 69: '兰德', 70: '关押', 71: '其实', 72: '具有', 73: '内尔', 74: '内战', 75: '内蒙古', 76: '军政', 77: '农业部', 78: '农场', 79: '凯尔', 80: '出使', 81: '出没', 82: '击败', 83: '分别', 84: '分子', 85: '分开', 86: '刑事', 87: '列表', 88: '初中', 89: '删除', 90: '剧场', 91: '副作用', 92: '努力', 93: '北海道', 94: '医师', 95: '十五', 96: '十八年', 97: '十字', 98: '十字花科', 99: '华中', 100: '南投', 101: '占有', 102: '卡利', 103: '卫视', 104: '印刷', 105: '厄尔', 106: '历来', 107: '厕所', 108: '原文', 109: '县政府', 110: '参加', 111: '参政', 112: '反复', 113: '反对派', 114: '反射', 115: '发展', 116: '发源地', 117: '发起', 118: '变更', 119: '可是', 120: '可能', 121: '台北', 122: '司职', 123: '各种', 124: '合作', 125: '吉林省', 126: '同性', 127: '名义', 128: '名叫', 129: '名字', 130: '名胜区', 131: '后端', 132: '后被', 133: '君王', 134: '听到', 135: '周刊', 136: '哥特式', 137: '哲学家', 138: '唱片', 139: '啄木鸟', 140: '商会', 141: '喜爱', 142: '四十', 143: '四十四', 144: '四川', 145: '围棋', 146: '国内外', 147: '国家公园', 148: '国徽', 149: '图书', 150: '圣殿', 151: '地形', 152: '地点', 153: '型号', 154: '型式', 155: '塔克', 156: '塔尔', 157: '增长', 158: '备受', 159: '复出', 160: '大于', 161: '大厦', 162: '大学', 163: '大学部', 164: '大约', 165: '大部份', 166: '大都', 167: '大阪府', 168: '天山', 169: '天文学家', 170: '天生', 171: '天竺', 172: '契约', 173: '奥地利', 174: '奥斯陆', 175: '女生', 176: '如此', 177: '委托', 178: '嫡母', 179: '子为', 180: '字体', 181: '字元', 182: '孙女', 183: '学派', 184: '学院', 185: '安土桃山时代', 186: '安葬', 187: '宗室', 188: '宗旨', 189: '定位', 190: '定期', 191: '实体', 192: '审查', 193: '宣誓', 194: '容器', 195: '对于', 196: '对照', 197: '封面', 198: '射击', 199: '尊重', 200: '尔格', 201: '尺寸', 202: '尼基', 203: '尼泊尔', 204: '山羊', 205: '山西省', 206: '岭南', 207: '州府', 208: '巡洋舰', 209: '巨大', 210: '巴伐利亚州', 211: '巴拿马', 212: '市场', 213: '市郊', 214: '帕克', 215: '年幼', 216: '年级', 217: '并未', 218: '幼儿', 219: '度过', 220: '座落', 221: '开办', 222: '弹劾', 223: '当中', 224: '彝族', 225: '形状', 226: '影响力', 227: '影展', 228: '得主', 229: '总共', 230: '情况', 231: '意味着', 232: '感知', 233: '戈亚斯', 234: '战俘', 235: '承袭', 236: '拉萨', 237: '指令', 238: '排名', 239: '排序', 240: '接着', 241: '推翻', 242: '提供', 243: '搜索', 244: '携带', 245: '摧毁', 246: '撒哈拉', 247: '撤销', 248: '操作', 249: '改名', 250: '放弃', 251: '政府', 252: '救援', 253: '整理', 254: '斑点', 255: '断层', 256: '斯人口', 257: '新西兰', 258: '方式', 259: '方形', 260: '方程', 261: '方面', 262: '日后', 263: '日常', 264: '日常生活', 265: '日本', 266: '日记', 267: '早熟', 268: '时空', 269: '明命', 270: '明星', 271: '星光', 272: '映射', 273: '昭和', 274: '晶体', 275: '有关', 276: '朋友', 277: '朝代', 278: '本质', 279: '机关', 280: '机器人', 281: '村落', 282: '来自', 283: '来说', 284: '果树', 285: '柴胡', 286: '标注', 287: '校友', 288: '根本', 289: '格雷', 290: '桑科', 291: '概率', 292: '模型', 293: '武将', 294: '歧视', 295: '母语', 296: '毒性', 297: '比例', 298: '比尤特', 299: '比特', 300: '气体', 301: '氢化', 302: '氧气', 303: '水果', 304: '江南', 305: '沃伦', 306: '河北省', 307: '沿用', 308: '泛指', 309: '海南省', 310: '海滩', 311: '深海', 312: '清末', 313: '渔业', 314: '湖南省', 315: '演唱', 316: '演艺', 317: '潮州', 318: '火箭', 319: '炮兵', 320: '父母', 321: '版本', 322: '物语', 323: '特急', 324: '状元', 325: '状况', 326: '独自', 327: '玄参科', 328: '率领', 329: '王室', 330: '环状', 331: '现今', 332: '珍珠菜', 333: '理性', 334: '甚至', 335: '用此', 336: '用法', 337: '用途', 338: '由于', 339: '由来', 340: '电子', 341: '留下', 342: '留守', 343: '痛苦', 344: '癌症', 345: '的町名', 346: '监督', 347: '直属', 348: '真空', 349: '眼蝶', 350: '石刻', 351: '示范', 352: '礼部', 353: '神经元', 354: '票房', 355: '科奇斯', 356: '科尔', 357: '科斯塔', 358: '科进士', 359: '程序', 360: '立场', 361: '竞技', 362: '第九', 363: '第二十', 364: '第二十一', 365: '第六十三', 366: '第十九', 367: '第十八', 368: '篮球队', 369: '类似', 370: '粮食', 371: '紫色', 372: '累积', 373: '繁忙', 374: '约克', 375: '纳西', 376: '经济学家', 377: '给定', 378: '维也纳', 379: '缓慢', 380: '编制', 381: '罗伯特', 382: '美术馆', 383: '翅膀', 384: '考入', 385: '耳蕨', 386: '耶路撒冷', 387: '肌肉', 388: '股东', 389: '自治', 390: '航空母舰', 391: '艺术', 392: '花卉', 393: '花园', 394: '莎草科', 395: '莲属', 396: '获得者', 397: '萨摩亚', 398: '蓼科', 399: '藤为', 400: '虎耳草科', 401: '蛋白质', 402: '蛱蝶', 403: '血统', 404: '西伯利亚', 405: '西侧', 406: '西汉', 407: '记忆', 408: '记忆体', 409: '设备', 410: '证书', 411: '评论家', 412: '识别', 413: '该党', 414: '该地', 415: '该省', 416: '读者', 417: '课程', 418: '调查', 419: '谷地', 420: '贞元', 421: '财经', 422: '贷款', 423: '资助', 424: '资料库', 425: '赛季', 426: '起因', 427: '起源', 428: '跑道', 429: '身影', 430: '软体', 431: '辖下', 432: '过渡', 433: '运算', 434: '运行', 435: '运输', 436: '近年来', 437: '进化', 438: '进去', 439: '进攻', 440: '连续剧', 441: '迪安', 442: '选举', 443: '选手', 444: '透过', 445: '途中', 446: '通车', 447: '遗传', 448: '遗留', 449: '遭遇', 450: '避难', 451: '那时', 452: '部位', 453: '部族', 454: '部首', 455: '都市', 456: '酋长', 457: '配合', 458: '配置', 459: '采集', 460: '释放', 461: '重复', 462: '重点', 463: '金山', 464: '金融', 465: '金钟', 466: '针对', 467: '银色', 468: '错过', 469: '锦州市', 470: '镇压', 471: '长沙', 472: '阁楼', 473: '降低', 474: '难道', 475: '集中', 476: '集合', 477: '雷达', 478: '青年队', 479: '非洲', 480: '面临', 481: '页面', 482: '顶端', 483: '领兵', 484: '风貌', 485: '食用', 486: '饰演', 487: '首长', 488: '香槟', 489: '香茶菜属', 490: '马来西亚', 491: '马里', 492: '马里科帕', 493: '鲁国', 494: '鸦片', 495: '鹅观草', 496: '黑森州', 497: '龙胆科'}\n"
     ]
    }
   ],
   "source": [
    "device = 'cuda:6'\n",
    "sampling_rate = 16000 # 这个数据集本来就是16000\n",
    "ds = load_dataset(\"MLCommons/ml_spoken_words\", languages=[\"zh-CN\"])\n",
    "ds = ds.remove_columns([\"file\", 'is_valid',\"language\", \"speaker_id\", 'gender']) # 已检查，全部valid\n",
    "train_set = ds['train']\n",
    "val_set = ds['validation']\n",
    "test_set = ds['test']\n",
    "labels = []\n",
    "# 检查数据集合法性\n",
    "worddict = {}\n",
    "for item in train_set:\n",
    "    worddict[item['keyword']] = 1\n",
    "for item in val_set:\n",
    "    assert worddict[item['keyword']] == 1\n",
    "for item in test_set:\n",
    "    assert worddict[item['keyword']] == 1\n",
    "for item in worddict:\n",
    "    labels.append(item)\n",
    "    \n",
    "label2id, id2label = dict(), dict()\n",
    "for i, label in enumerate(labels):\n",
    "    label2id[label] = i\n",
    "    id2label[i] = label\n",
    "print(label2id)\n",
    "print(id2label)\n",
    "num_labels = len(id2label)"
   ]
  },
  {
   "cell_type": "code",
   "execution_count": 3,
   "metadata": {},
   "outputs": [
    {
     "name": "stderr",
     "output_type": "stream",
     "text": [
      "Some weights of ASTForAudioClassification were not initialized from the model checkpoint at MIT/ast-finetuned-audioset-10-10-0.4593 and are newly initialized because the shapes did not match:\n",
      "- classifier.dense.weight: found shape torch.Size([527, 768]) in the checkpoint and torch.Size([498, 768]) in the model instantiated\n",
      "- classifier.dense.bias: found shape torch.Size([527]) in the checkpoint and torch.Size([498]) in the model instantiated\n",
      "You should probably TRAIN this model on a down-stream task to be able to use it for predictions and inference.\n"
     ]
    },
    {
     "data": {
      "text/plain": [
       "ASTForAudioClassification(\n",
       "  (audio_spectrogram_transformer): ASTModel(\n",
       "    (embeddings): ASTEmbeddings(\n",
       "      (patch_embeddings): ASTPatchEmbeddings(\n",
       "        (projection): Conv2d(1, 768, kernel_size=(16, 16), stride=(10, 10))\n",
       "      )\n",
       "      (dropout): Dropout(p=0.0, inplace=False)\n",
       "    )\n",
       "    (encoder): ASTEncoder(\n",
       "      (layer): ModuleList(\n",
       "        (0-11): 12 x ASTLayer(\n",
       "          (attention): ASTAttention(\n",
       "            (attention): ASTSelfAttention(\n",
       "              (query): Linear(in_features=768, out_features=768, bias=True)\n",
       "              (key): Linear(in_features=768, out_features=768, bias=True)\n",
       "              (value): Linear(in_features=768, out_features=768, bias=True)\n",
       "              (dropout): Dropout(p=0.0, inplace=False)\n",
       "            )\n",
       "            (output): ASTSelfOutput(\n",
       "              (dense): Linear(in_features=768, out_features=768, bias=True)\n",
       "              (dropout): Dropout(p=0.0, inplace=False)\n",
       "            )\n",
       "          )\n",
       "          (intermediate): ASTIntermediate(\n",
       "            (dense): Linear(in_features=768, out_features=3072, bias=True)\n",
       "            (intermediate_act_fn): GELUActivation()\n",
       "          )\n",
       "          (output): ASTOutput(\n",
       "            (dense): Linear(in_features=3072, out_features=768, bias=True)\n",
       "            (dropout): Dropout(p=0.0, inplace=False)\n",
       "          )\n",
       "          (layernorm_before): LayerNorm((768,), eps=1e-12, elementwise_affine=True)\n",
       "          (layernorm_after): LayerNorm((768,), eps=1e-12, elementwise_affine=True)\n",
       "        )\n",
       "      )\n",
       "    )\n",
       "    (layernorm): LayerNorm((768,), eps=1e-12, elementwise_affine=True)\n",
       "  )\n",
       "  (classifier): ASTMLPHead(\n",
       "    (layernorm): LayerNorm((768,), eps=1e-12, elementwise_affine=True)\n",
       "    (dense): Linear(in_features=768, out_features=498, bias=True)\n",
       "  )\n",
       ")"
      ]
     },
     "execution_count": 3,
     "metadata": {},
     "output_type": "execute_result"
    }
   ],
   "source": [
    "feature_extractor = AutoFeatureExtractor.from_pretrained(\"MIT/ast-finetuned-audioset-10-10-0.4593\")\n",
    "model = AutoModelForAudioClassification.from_pretrained(\n",
    "    \"MIT/ast-finetuned-audioset-10-10-0.4593\", num_labels=num_labels, label2id=label2id, id2label=id2label,\n",
    "    ignore_mismatched_sizes=True\n",
    ")\n",
    "model.to(device)"
   ]
  },
  {
   "cell_type": "code",
   "execution_count": 4,
   "metadata": {},
   "outputs": [],
   "source": [
    "import torch\n",
    "def mlc_collate_fn(data):\n",
    "    batch = {}\n",
    "    # batch['keyword'] = [d['keyword'] for d in data]\n",
    "    batch['labels'] = torch.tensor([label2id[d['keyword']] for d in data]).to(device)\n",
    "    batch['input_values'] = torch.cat(\n",
    "            [feature_extractor(d['audio']['array'], sampling_rate=sampling_rate, return_tensors=\"pt\").input_values for d in data]).to(device) # a tensor of arrays return batch\n",
    "    return batch"
   ]
  },
  {
   "cell_type": "code",
   "execution_count": 12,
   "metadata": {},
   "outputs": [],
   "source": [
    "train_loader = DataLoader(dataset=train_set, batch_size=12, shuffle=True, collate_fn = mlc_collate_fn)\n",
    "optimizer = AdamW(model.parameters(),lr = 1e-5)\n",
    "epochs = 10"
   ]
  },
  {
   "cell_type": "code",
   "execution_count": null,
   "metadata": {},
   "outputs": [],
   "source": [
    "from tqdm import tqdm\n",
    "for epoch in range(epochs):\n",
    "    cnt = 0\n",
    "    pos = 0\n",
    "    for batch_idx, batch in tqdm(enumerate(train_loader)):\n",
    "        output = model(**batch)\n",
    "        pred = output.logits.argmax(-1)\n",
    "        labels = batch['labels']\n",
    "        pos += (torch.sum(pred == labels)).item()\n",
    "        cnt += pred.shape[0]\n",
    "        loss = output.loss\n",
    "        if batch_idx % 100 == 0: \n",
    "            with torch.no_grad():\n",
    "                acc = torch.sum(pred == labels)/pred.shape[0]\n",
    "                print('loss:',loss.item(),'acc:',acc.item())\n",
    "        loss.backward()\n",
    "        optimizer.step()\n",
    "        optimizer.zero_grad()\n",
    "    print('epoch:',epoch,'acc:',pos/cnt)"
   ]
  },
  {
   "cell_type": "code",
   "execution_count": 14,
   "metadata": {},
   "outputs": [
    {
     "name": "stderr",
     "output_type": "stream",
     "text": [
      "2it [00:00,  5.22it/s]"
     ]
    },
    {
     "name": "stdout",
     "output_type": "stream",
     "text": [
      "pos: 5 cnt: 8\n"
     ]
    },
    {
     "name": "stderr",
     "output_type": "stream",
     "text": [
      "102it [00:19,  5.28it/s]"
     ]
    },
    {
     "name": "stdout",
     "output_type": "stream",
     "text": [
      "pos: 437 cnt: 808\n"
     ]
    },
    {
     "name": "stderr",
     "output_type": "stream",
     "text": [
      "154it [00:29,  5.28it/s]"
     ]
    },
    {
     "name": "stdout",
     "output_type": "stream",
     "text": [
      "acc on test set: 0.5219155844155844\n"
     ]
    },
    {
     "name": "stderr",
     "output_type": "stream",
     "text": [
      "\n"
     ]
    }
   ],
   "source": [
    "# 测试\n",
    "test_loader = DataLoader(dataset=test_set, batch_size=8, shuffle=True, collate_fn = mlc_collate_fn)\n",
    "cnt = 0\n",
    "pos = 0\n",
    "model.eval()\n",
    "with torch.no_grad():\n",
    "    for batch_idx, batch in tqdm(enumerate(test_loader)):\n",
    "        output = model(**batch)\n",
    "        pred = output.logits.argmax(-1)\n",
    "        labels = batch['labels']\n",
    "        pos += (torch.sum(pred == labels)).item()\n",
    "        cnt += pred.shape[0]\n",
    "        if batch_idx % 100 == 0:\n",
    "            print('pos:',pos,'cnt:',cnt)\n",
    "        # loss = output.loss\n",
    "        # if batch_idx % 100 == 0: \n",
    "        #     with torch.no_grad():\n",
    "        #         acc = torch.sum(pred == labels)/pred.shape[0]\n",
    "        #         print('loss:',loss.item(),'acc:',acc.item())\n",
    "        # loss.backward()\n",
    "        # optimizer.step()\n",
    "        # optimizer.zero_grad()\n",
    "print('acc on test set:',pos/cnt)"
   ]
  },
  {
   "cell_type": "code",
   "execution_count": 9,
   "metadata": {},
   "outputs": [
    {
     "name": "stdout",
     "output_type": "stream",
     "text": [
      "21770\n"
     ]
    },
    {
     "ename": "",
     "evalue": "",
     "output_type": "error",
     "traceback": [
      "\u001b[1;31mCanceled future for execute_request message before replies were done"
     ]
    },
    {
     "ename": "",
     "evalue": "",
     "output_type": "error",
     "traceback": [
      "\u001b[1;31m在当前单元格或上一个单元格中执行代码时 Kernel 崩溃。请查看单元格中的代码，以确定故障的可能原因。有关详细信息，请单击 <a href='https://aka.ms/vscodeJupyterKernelCrash'>此处</a>。有关更多详细信息，请查看 Jupyter <a href='command:jupyter.viewOutput'>log</a>。"
     ]
    }
   ],
   "source": [
    "import os\n",
    "pid = os.getpid()\n",
    "print(pid)\n",
    "!kill -9 $pid"
   ]
  }
 ],
 "metadata": {
  "kernelspec": {
   "display_name": "audio",
   "language": "python",
   "name": "python3"
  },
  "language_info": {
   "codemirror_mode": {
    "name": "ipython",
    "version": 3
   },
   "file_extension": ".py",
   "mimetype": "text/x-python",
   "name": "python",
   "nbconvert_exporter": "python",
   "pygments_lexer": "ipython3",
   "version": "3.9.16"
  },
  "orig_nbformat": 4
 },
 "nbformat": 4,
 "nbformat_minor": 2
}
